{
 "cells": [
  {
   "cell_type": "code",
   "execution_count": 54,
   "metadata": {},
   "outputs": [],
   "source": [
    "import tensorflow as tf"
   ]
  },
  {
   "cell_type": "code",
   "execution_count": 55,
   "metadata": {},
   "outputs": [],
   "source": [
    "import numpy as np"
   ]
  },
  {
   "cell_type": "code",
   "execution_count": 56,
   "metadata": {},
   "outputs": [],
   "source": [
    "#털, 날개\n",
    "x_data = np.array([[0,0], [1,0], [1,1],[0,0],[0,0],[0,1]])"
   ]
  },
  {
   "cell_type": "code",
   "execution_count": 57,
   "metadata": {},
   "outputs": [],
   "source": [
    "y_data = np.array([\n",
    "    [1,0,0],\n",
    "    [0,1,0],\n",
    "    [0,0,1],\n",
    "    [1,0,0],\n",
    "    [1,0,0],\n",
    "    [0,0,1]\n",
    "])"
   ]
  },
  {
   "cell_type": "code",
   "execution_count": 58,
   "metadata": {},
   "outputs": [],
   "source": [
    "X = tf.placeholder(tf.float32)\n",
    "Y = tf.placeholder(tf.float32)"
   ]
  },
  {
   "cell_type": "code",
   "execution_count": 59,
   "metadata": {},
   "outputs": [],
   "source": [
    "#variables\n",
    "W = tf.Variable(tf.random_uniform([2,3],-1.,1.))\n",
    "b = tf.Variable(tf.zeros([3]))"
   ]
  },
  {
   "cell_type": "code",
   "execution_count": 60,
   "metadata": {},
   "outputs": [],
   "source": [
    "#Layer\n",
    "L = tf.add(tf.matmul(X,W),b)\n",
    "L = tf.nn.relu(L)\n",
    "\n",
    "model = tf.nn.softmax(L)"
   ]
  },
  {
   "cell_type": "code",
   "execution_count": 61,
   "metadata": {},
   "outputs": [],
   "source": [
    "# cost(Cross-Entropy for multi-class classification)\n",
    "cost = tf.reduce_mean(-tf.reduce_sum(Y*tf.log(model), axis=1))\n",
    "\n",
    "optimizer = tf.train.GradientDescentOptimizer(learning_rate=0.01)\n",
    "train_op = optimizer.minimize(cost)"
   ]
  },
  {
   "cell_type": "code",
   "execution_count": 62,
   "metadata": {},
   "outputs": [],
   "source": [
    "# init tensorflow session\n",
    "init = tf.global_variables_initializer()\n",
    "sess = tf.Session()\n",
    "sess.run(init)"
   ]
  },
  {
   "cell_type": "code",
   "execution_count": 63,
   "metadata": {},
   "outputs": [
    {
     "name": "stdout",
     "output_type": "stream",
     "text": [
      "10 1.0476075\n",
      "20 1.0391959\n",
      "30 1.031149\n",
      "40 1.0234457\n",
      "50 1.0160663\n",
      "60 1.0089921\n",
      "70 1.0036765\n",
      "80 0.9986072\n",
      "90 0.99388313\n",
      "100 0.9894888\n",
      "110 0.9851764\n",
      "120 0.98093754\n",
      "130 0.9768483\n",
      "140 0.9730056\n",
      "150 0.96938545\n",
      "160 0.96590704\n",
      "170 0.9625463\n",
      "180 0.9592479\n",
      "190 0.95602006\n",
      "200 0.9528486\n",
      "210 0.9497924\n",
      "220 0.94679576\n",
      "230 0.94385606\n",
      "240 0.9409707\n",
      "250 0.9381375\n",
      "260 0.9353536\n",
      "270 0.9327118\n",
      "280 0.9300514\n",
      "290 0.92750096\n",
      "300 0.9249318\n",
      "310 0.9225016\n",
      "320 0.9201135\n",
      "330 0.91774464\n",
      "340 0.91542774\n",
      "350 0.91317064\n",
      "360 0.9109442\n",
      "370 0.90873903\n",
      "380 0.9066112\n",
      "390 0.90457296\n",
      "400 0.9024663\n",
      "410 0.90053004\n",
      "420 0.89852333\n",
      "430 0.8965988\n",
      "440 0.8947525\n",
      "450 0.8928996\n",
      "460 0.89107555\n",
      "470 0.88929373\n",
      "480 0.8875534\n",
      "490 0.885853\n",
      "500 0.884181\n",
      "510 0.8824932\n",
      "520 0.8808765\n",
      "530 0.87932444\n",
      "540 0.87771606\n",
      "550 0.8762234\n",
      "560 0.8746786\n",
      "570 0.8732546\n",
      "580 0.8717708\n",
      "590 0.8703334\n",
      "600 0.86897707\n",
      "610 0.86759233\n",
      "620 0.8662273\n",
      "630 0.8648899\n",
      "640 0.86357933\n",
      "650 0.8622949\n",
      "660 0.86103535\n",
      "670 0.85980016\n",
      "680 0.85858864\n",
      "690 0.8574288\n",
      "700 0.85637635\n",
      "710 0.8553581\n",
      "720 0.85432553\n",
      "730 0.85329705\n",
      "740 0.85232633\n",
      "750 0.85130006\n",
      "760 0.8503595\n",
      "770 0.8493645\n",
      "780 0.8484519\n",
      "790 0.8474863\n",
      "800 0.84654456\n",
      "810 0.84566325\n",
      "820 0.84473985\n",
      "830 0.84382993\n",
      "840 0.8429645\n",
      "850 0.84211\n",
      "860 0.841238\n",
      "870 0.8403783\n",
      "880 0.8395305\n",
      "890 0.8386944\n",
      "900 0.8378697\n",
      "910 0.83705616\n",
      "920 0.8362536\n",
      "930 0.8354613\n",
      "940 0.83467954\n",
      "950 0.83390766\n",
      "960 0.8331458\n",
      "970 0.8323724\n",
      "980 0.83160067\n",
      "990 0.8308675\n",
      "1000 0.83014303\n"
     ]
    }
   ],
   "source": [
    "# train1000times\n",
    "for step in range(1000):\n",
    "    sess.run(train_op, feed_dict={X: x_data, Y: y_data})\n",
    "    \n",
    "    if(step+1)%10 == 0:\n",
    "        print(step+1, sess.run(cost, feed_dict={X: x_data, Y: y_data}))"
   ]
  },
  {
   "cell_type": "code",
   "execution_count": 64,
   "metadata": {},
   "outputs": [
    {
     "name": "stdout",
     "output_type": "stream",
     "text": [
      "예측값: [0 2 2 0 0 2]\n",
      "실제값: [0 1 2 0 0 2]\n"
     ]
    }
   ],
   "source": [
    "# check the prediction results\n",
    "prediction = tf.argmax(model, axis=1)\n",
    "target = tf.argmax(Y, axis=1)\n",
    "print('예측값:', sess.run(prediction, feed_dict={X:x_data}))\n",
    "print('실제값:', sess.run(target, feed_dict={Y: y_data}))"
   ]
  },
  {
   "cell_type": "code",
   "execution_count": 65,
   "metadata": {},
   "outputs": [
    {
     "name": "stdout",
     "output_type": "stream",
     "text": [
      "정확도: 83.33\n"
     ]
    }
   ],
   "source": [
    "# predictionaccuracy\n",
    "is_correct= tf.equal(prediction, target)\n",
    "accuracy= tf.reduce_mean(tf.cast(is_correct, tf.float32))\n",
    "print('정확도: %.2f' % sess.run(accuracy*100, feed_dict={X: x_data, Y: y_data}))"
   ]
  },
  {
   "cell_type": "code",
   "execution_count": null,
   "metadata": {},
   "outputs": [],
   "source": []
  },
  {
   "cell_type": "code",
   "execution_count": null,
   "metadata": {},
   "outputs": [],
   "source": []
  }
 ],
 "metadata": {
  "kernelspec": {
   "display_name": "Python 3",
   "language": "python",
   "name": "python3"
  },
  "language_info": {
   "codemirror_mode": {
    "name": "ipython",
    "version": 3
   },
   "file_extension": ".py",
   "mimetype": "text/x-python",
   "name": "python",
   "nbconvert_exporter": "python",
   "pygments_lexer": "ipython3",
   "version": "3.6.4"
  }
 },
 "nbformat": 4,
 "nbformat_minor": 2
}
