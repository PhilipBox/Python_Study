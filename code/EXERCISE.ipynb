{
 "cells": [
  {
   "cell_type": "code",
   "execution_count": 2,
   "metadata": {},
   "outputs": [],
   "source": [
    "import tensorflow as tf"
   ]
  },
  {
   "cell_type": "code",
   "execution_count": 3,
   "metadata": {},
   "outputs": [],
   "source": [
    "import tensorflow as tf"
   ]
  },
  {
   "cell_type": "code",
   "execution_count": 4,
   "metadata": {},
   "outputs": [],
   "source": [
    "import numpy as np"
   ]
  },
  {
   "cell_type": "code",
   "execution_count": 6,
   "metadata": {},
   "outputs": [
    {
     "ename": "SyntaxError",
     "evalue": "invalid syntax (<ipython-input-6-e2bb5d645327>, line 2)",
     "output_type": "error",
     "traceback": [
      "\u001b[1;36m  File \u001b[1;32m\"<ipython-input-6-e2bb5d645327>\"\u001b[1;36m, line \u001b[1;32m2\u001b[0m\n\u001b[1;33m    x_data = np.array([0,0], [1,0], [1,1],[0,0,[0,0],[0,1])\u001b[0m\n\u001b[1;37m                                                          ^\u001b[0m\n\u001b[1;31mSyntaxError\u001b[0m\u001b[1;31m:\u001b[0m invalid syntax\n"
     ]
    }
   ],
   "source": [
    "#털, 날개\n",
    "x_data = np.array([0,0], [1,0], [1,1],[0,0,[0,0],[0,1])"
   ]
  },
  {
   "cell_type": "code",
   "execution_count": 8,
   "metadata": {},
   "outputs": [
    {
     "ename": "SyntaxError",
     "evalue": "invalid syntax (<ipython-input-8-3b120c275e55>, line 2)",
     "output_type": "error",
     "traceback": [
      "\u001b[1;36m  File \u001b[1;32m\"<ipython-input-8-3b120c275e55>\"\u001b[1;36m, line \u001b[1;32m2\u001b[0m\n\u001b[1;33m    x_data = np.array([[0,0], [1,0], [1,1],[0,0,[0,0],[0,1]])\u001b[0m\n\u001b[1;37m                                                            ^\u001b[0m\n\u001b[1;31mSyntaxError\u001b[0m\u001b[1;31m:\u001b[0m invalid syntax\n"
     ]
    }
   ],
   "source": [
    "#털, 날개\n",
    "x_data = np.array([[0,0], [1,0], [1,1],[0,0,[0,0],[0,1]])"
   ]
  },
  {
   "cell_type": "code",
   "execution_count": 10,
   "metadata": {},
   "outputs": [],
   "source": [
    "#털, 날개\n",
    "x_data = np.array([[0,0], [1,0], [1,1],[0,0],[0,0],[0,1]])"
   ]
  },
  {
   "cell_type": "code",
   "execution_count": 11,
   "metadata": {},
   "outputs": [],
   "source": [
    "y_data = np.array([\n",
    "    [1,0,0],\n",
    "    [0,1,0],\n",
    "    [0,0,1],\n",
    "    [1,0,0],\n",
    "    [1,0,0],\n",
    "    [0,0,1]\n",
    "])"
   ]
  },
  {
   "cell_type": "code",
   "execution_count": 12,
   "metadata": {},
   "outputs": [],
   "source": [
    "X = tf.placeholder(tf.float32)\n",
    "Y = tf.placeholder(tf.float32)"
   ]
  },
  {
   "cell_type": "code",
   "execution_count": 13,
   "metadata": {},
   "outputs": [],
   "source": [
    "#variables\n",
    "W = tf.Variable(tf.random_uniform([2,3],-1.,1.))\n",
    "b = tf.Variable(tf.zeros([3]))"
   ]
  },
  {
   "cell_type": "code",
   "execution_count": 14,
   "metadata": {},
   "outputs": [],
   "source": [
    "#Layer\n",
    "L = tf.add(tf.matmul(X,W),b)\n",
    "L = tf.nn.relu(L)\n",
    "\n",
    "model = tf.nn.softmax(L)"
   ]
  },
  {
   "cell_type": "code",
   "execution_count": 15,
   "metadata": {},
   "outputs": [],
   "source": [
    "# cost(Cross-Entropy for multi-class classification)\n",
    "cost = tf.reduce_mean(-tf.reduce_sum(Y*tf.log(model), axis=1))\n",
    "\n",
    "optimizer = tf.train.GradientDescentOptimizer(learning_rate=0.01)\n",
    "train_op = optimizer.minimize(cost)"
   ]
  },
  {
   "cell_type": "code",
   "execution_count": 16,
   "metadata": {},
   "outputs": [
    {
     "ename": "AttributeError",
     "evalue": "module 'tensorflow' has no attribute 'gloobal_variables_initializer'",
     "output_type": "error",
     "traceback": [
      "\u001b[1;31m---------------------------------------------------------------------------\u001b[0m",
      "\u001b[1;31mAttributeError\u001b[0m                            Traceback (most recent call last)",
      "\u001b[1;32m<ipython-input-16-5f0eaf2b82a6>\u001b[0m in \u001b[0;36m<module>\u001b[1;34m()\u001b[0m\n\u001b[0;32m      1\u001b[0m \u001b[1;31m# init tensorflow session\u001b[0m\u001b[1;33m\u001b[0m\u001b[1;33m\u001b[0m\u001b[0m\n\u001b[1;32m----> 2\u001b[1;33m \u001b[0minit\u001b[0m \u001b[1;33m=\u001b[0m \u001b[0mtf\u001b[0m\u001b[1;33m.\u001b[0m\u001b[0mgloobal_variables_initializer\u001b[0m\u001b[1;33m(\u001b[0m\u001b[1;33m)\u001b[0m\u001b[1;33m\u001b[0m\u001b[0m\n\u001b[0m\u001b[0;32m      3\u001b[0m \u001b[0msess\u001b[0m \u001b[1;33m=\u001b[0m \u001b[0mtf\u001b[0m\u001b[1;33m.\u001b[0m\u001b[0mSession\u001b[0m\u001b[1;33m(\u001b[0m\u001b[1;33m)\u001b[0m\u001b[1;33m\u001b[0m\u001b[0m\n\u001b[0;32m      4\u001b[0m \u001b[0msess\u001b[0m\u001b[1;33m.\u001b[0m\u001b[0mrun\u001b[0m\u001b[1;33m(\u001b[0m\u001b[0minit\u001b[0m\u001b[1;33m)\u001b[0m\u001b[1;33m\u001b[0m\u001b[0m\n",
      "\u001b[1;31mAttributeError\u001b[0m: module 'tensorflow' has no attribute 'gloobal_variables_initializer'"
     ]
    }
   ],
   "source": [
    "# init tensorflow session\n",
    "init = tf.gloobal_variables_initializer()\n",
    "sess = tf.Session()\n",
    "sess.run(init)"
   ]
  },
  {
   "cell_type": "code",
   "execution_count": 38,
   "metadata": {},
   "outputs": [],
   "source": [
    "# init tensorflow session\n",
    "init = tf.global_variables_initializer()\n",
    "sess = tf.Session()\n",
    "sess.run(init)"
   ]
  },
  {
   "cell_type": "code",
   "execution_count": 39,
   "metadata": {},
   "outputs": [
    {
     "name": "stdout",
     "output_type": "stream",
     "text": [
      "10 1.0077167\n",
      "20 1.0038142\n",
      "30 0.9999633\n",
      "40 0.99619246\n",
      "50 0.99250907\n",
      "60 0.98886746\n",
      "70 0.9852855\n",
      "80 0.9818607\n",
      "90 0.9784458\n",
      "100 0.97530603\n",
      "110 0.97219795\n",
      "120 0.9692405\n",
      "130 0.96629983\n",
      "140 0.96339923\n",
      "150 0.9605662\n",
      "160 0.9577988\n",
      "170 0.95509434\n",
      "180 0.9524513\n",
      "190 0.94983286\n",
      "200 0.9472403\n",
      "210 0.944772\n",
      "220 0.94229555\n",
      "230 0.93989927\n",
      "240 0.9375078\n",
      "250 0.9352364\n",
      "260 0.93293387\n",
      "270 0.93068093\n",
      "280 0.9285047\n",
      "290 0.9263764\n",
      "300 0.9242762\n",
      "310 0.92220306\n",
      "320 0.92015594\n",
      "330 0.91813374\n",
      "340 0.9161722\n",
      "350 0.91426355\n",
      "360 0.9123922\n",
      "370 0.9104838\n",
      "380 0.9086848\n",
      "390 0.90688854\n",
      "400 0.90511894\n",
      "410 0.903377\n",
      "420 0.9016859\n",
      "430 0.8999848\n",
      "440 0.89835477\n",
      "450 0.89673847\n",
      "460 0.8951282\n",
      "470 0.8935469\n",
      "480 0.89199394\n",
      "490 0.8904683\n",
      "500 0.888973\n",
      "510 0.8874981\n",
      "520 0.88604736\n",
      "530 0.88462347\n",
      "540 0.883223\n",
      "550 0.8818458\n",
      "560 0.88049096\n",
      "570 0.8791457\n",
      "580 0.8777985\n",
      "590 0.876508\n",
      "600 0.87523764\n",
      "610 0.87394214\n",
      "620 0.8727112\n",
      "630 0.87145615\n",
      "640 0.8702622\n",
      "650 0.8690451\n",
      "660 0.86788636\n",
      "670 0.8667054\n",
      "680 0.8655792\n",
      "690 0.8644335\n",
      "700 0.8633037\n",
      "710 0.86221606\n",
      "720 0.8611279\n",
      "730 0.8600457\n",
      "740 0.8589785\n",
      "750 0.85792637\n",
      "760 0.8569197\n",
      "770 0.8558962\n",
      "780 0.85488564\n",
      "790 0.8538888\n",
      "800 0.85290504\n",
      "810 0.8519344\n",
      "820 0.85097617\n",
      "830 0.8500302\n",
      "840 0.8490963\n",
      "850 0.84817404\n",
      "860 0.8472633\n",
      "870 0.846359\n",
      "880 0.8454516\n",
      "890 0.84457415\n",
      "900 0.843707\n",
      "910 0.84285027\n",
      "920 0.84200376\n",
      "930 0.84114605\n",
      "940 0.8403191\n",
      "950 0.8395016\n",
      "960 0.83867526\n",
      "970 0.8378753\n",
      "980 0.83708507\n",
      "990 0.8362863\n",
      "1000 0.83551335\n"
     ]
    }
   ],
   "source": [
    "# train1000times\n",
    "for step in range(1000):\n",
    "    sess.run(train_op, feed_dict={X: x_data, Y: y_data})\n",
    "    \n",
    "    if(step+1)%10 == 0:\n",
    "        print(step+1, sess.run(cost, feed_dict={X: x_data, Y: y_data}))"
   ]
  },
  {
   "cell_type": "code",
   "execution_count": 40,
   "metadata": {},
   "outputs": [
    {
     "name": "stdout",
     "output_type": "stream",
     "text": [
      "예측값: [0 2 2 0 0 2]\n",
      "실제값: [0 1 2 0 0 2]\n"
     ]
    }
   ],
   "source": [
    "# check the prediction results\n",
    "prediction = tf.argmax(model, axis=1)\n",
    "target = tf.argmax(Y, axis=1)\n",
    "print('예측값:', sess.run(prediction, feed_dict={X:x_data}))\n",
    "print('실제값:', sess.run(target, feed_dict={Y: y_data}))"
   ]
  },
  {
   "cell_type": "code",
   "execution_count": 41,
   "metadata": {},
   "outputs": [
    {
     "name": "stdout",
     "output_type": "stream",
     "text": [
      "정확도: 83.33\n"
     ]
    }
   ],
   "source": [
    "# predictionaccuracy\n",
    "is_correct= tf.equal(prediction, target)\n",
    "accuracy= tf.reduce_mean(tf.cast(is_correct, tf.float32))\n",
    "print('정확도: %.2f' % sess.run(accuracy*100, feed_dict={X: x_data, Y: y_data}))"
   ]
  },
  {
   "cell_type": "code",
   "execution_count": null,
   "metadata": {},
   "outputs": [],
   "source": []
  }
 ],
 "metadata": {
  "kernelspec": {
   "display_name": "Python 3",
   "language": "python",
   "name": "python3"
  },
  "language_info": {
   "codemirror_mode": {
    "name": "ipython",
    "version": 3
   },
   "file_extension": ".py",
   "mimetype": "text/x-python",
   "name": "python",
   "nbconvert_exporter": "python",
   "pygments_lexer": "ipython3",
   "version": "3.6.4"
  }
 },
 "nbformat": 4,
 "nbformat_minor": 2
}
